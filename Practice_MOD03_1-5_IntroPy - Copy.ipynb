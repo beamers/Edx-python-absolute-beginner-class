{
 "cells": [
  {
   "cell_type": "markdown",
   "metadata": {},
   "source": [
    "# 1-5 Intro Python Practice  \n",
    "## conditionals, type, and mathematics extended   \n",
    "&nbsp;\n",
    "<font size=\"5\" color=\"#00A0B2\"  face=\"verdana\"> <B>Student will be able to</B></font>  \n",
    "- code more than two choices using **`elif`** \n",
    "- gather numeric input using type casting  \n",
    "- perform subtraction, multiplication and division operations in code  &nbsp;  \n"
   ]
  },
  {
   "cell_type": "markdown",
   "metadata": {},
   "source": [
    "# &nbsp;  \n",
    "<font size=\"6\" color=\"#B24C00\"  face=\"verdana\"> <B>Tasks</B></font>"
   ]
  },
  {
   "cell_type": "markdown",
   "metadata": {},
   "source": [
    "### Rainbow colors\n",
    "ask for input of a favorite rainbow color first letter: ROYGBIV  \n",
    "\n",
    "Using `if`, `elif`, and `else`:  \n",
    "- print the color matching the letter  \n",
    "    - R = Red  \n",
    "    - O = Orange  \n",
    "    - Y = Yellow  \n",
    "    - G = Green\n",
    "    - B = Blue\n",
    "    - I = Indigo\n",
    "    - V = Violet\n",
    "    - else print \"no match\"\n"
   ]
  },
  {
   "cell_type": "code",
   "execution_count": 3,
   "metadata": {},
   "outputs": [
    {
     "name": "stdout",
     "output_type": "stream",
     "text": [
      "Enter first letter of favorite rainbow color (R, O, Y, G, B, I, V): O\n",
      "Orange\n"
     ]
    }
   ],
   "source": [
    "# [ ] complete rainbow colors\n",
    "\n",
    "rainbow_color = input(\"Enter first letter of favorite rainbow color (R, O, Y, G, B, I, V): \") \n",
    "\n",
    "if rainbow_color == \"R\":\n",
    "    print(\"Red\")\n",
    "elif rainbow_color == \"O\":\n",
    "    print(\"Orange\")\n",
    "elif rainbow_color == \"Y\":\n",
    "    print(\"Yellow\")    \n",
    "elif rainbow_color == \"G\":\n",
    "    print(\"Green\")    \n",
    "elif rainbow_color == \"B\":\n",
    "    print(\"Blue\")    \n",
    "elif rainbow_color == \"I\":\n",
    "    print(\"Indigo\")    \n",
    "elif rainbow_color == \"V\":\n",
    "    print(\"Violet\")\n",
    "else:\n",
    "    print(\"no match\")\n"
   ]
  },
  {
   "cell_type": "code",
   "execution_count": 8,
   "metadata": {},
   "outputs": [
    {
     "name": "stdout",
     "output_type": "stream",
     "text": [
      "Enter first letter of favorite rainbow color (R, O, Y, G, B, I, V): V\n",
      "Violet\n",
      "None\n"
     ]
    }
   ],
   "source": [
    "# [ ] make the code above into a function rainbow_color() that has a string parameter, \n",
    "# get input and call the function and return the matching color as a string or \"no match\" message.\n",
    "# Call the function and print the return string.\n",
    "\n",
    "def rainbow_color():\n",
    "    rainbow_color = input(\"Enter first letter of favorite rainbow color (R, O, Y, G, B, I, V): \") \n",
    "    if rainbow_color == \"R\":\n",
    "        print(\"Red\")\n",
    "    elif rainbow_color == \"O\":\n",
    "        print(\"Orange\")\n",
    "    elif rainbow_color == \"Y\":\n",
    "        print(\"Yellow\")    \n",
    "    elif rainbow_color == \"G\":\n",
    "        print(\"Green\")    \n",
    "    elif rainbow_color == \"B\":\n",
    "        print(\"Blue\")    \n",
    "    elif rainbow_color == \"I\":\n",
    "        print(\"Indigo\")    \n",
    "    elif rainbow_color == \"V\":\n",
    "        print(\"Violet\")\n",
    "    else:\n",
    "        print(\"no match\")\n",
    "        \n",
    "print(rainbow_color())\n",
    "        "
   ]
  },
  {
   "cell_type": "markdown",
   "metadata": {},
   "source": [
    "# &nbsp;  \n",
    "**Create function age_20() that adds or subtracts 20 from your age for a return value based on current age** (use `if`) \n",
    "- call the funtion with user input and then use the return value in a sentence  \n",
    "example `age_20(25)` returns **5**: \n",
    "> \"5 years old, 20 years difference from now\""
   ]
  },
  {
   "cell_type": "code",
   "execution_count": 57,
   "metadata": {},
   "outputs": [
    {
     "name": "stdout",
     "output_type": "stream",
     "text": [
      "Enter your age as an integer: 12\n",
      "I am 12 years old, 32 is 20 years difference from now\n"
     ]
    }
   ],
   "source": [
    "# [ ] complete age_20()\n",
    "age = int(input(\"Enter your age as an integer: \"))\n",
    "\n",
    "def age_20():\n",
    "    age_difference = age + 20\n",
    "    return age_difference\n",
    "      \n",
    "\n",
    "# the instructions above makes no sense to me but the above code is my best interpretation according to the instructions\n",
    "print (\"I am\",age,\"years old,\",age_20(),\"is 20 years difference from now\")"
   ]
  },
  {
   "cell_type": "code",
   "execution_count": 37,
   "metadata": {},
   "outputs": [
    {
     "name": "stdout",
     "output_type": "stream",
     "text": [
      "Enter integer 1: 6\n",
      "Enter integer 2: 3\n",
      "9\n"
     ]
    }
   ],
   "source": [
    "# [ ]  add 2 numbers from input using a cast to integer and display the answer \n",
    "\n",
    "integer_1 = (int(input(\"Enter integer 1: \")))\n",
    "integer_2 = (int(input(\"Enter integer 2: \")))\n",
    "\n",
    "def addition():\n",
    "    sum = integer_1+integer_2\n",
    "    return sum\n",
    "\n",
    "print (addition())\n",
    "\n"
   ]
  },
  {
   "cell_type": "code",
   "execution_count": 38,
   "metadata": {},
   "outputs": [
    {
     "name": "stdout",
     "output_type": "stream",
     "text": [
      "Enter integer 1: 3\n",
      "Enter integer 2: 4\n",
      "the answer is 3  *  4  =  12\n"
     ]
    }
   ],
   "source": [
    "# [ ] Multiply 2 numbers from input using cast and save the answer as part of a string \"the answer is...\"\n",
    "# display the string using print\n",
    "integer_1 = (int(input(\"Enter integer 1: \")))\n",
    "integer_2 = (int(input(\"Enter integer 2: \")))\n",
    "\n",
    "def multiply():\n",
    "    product = integer_1*integer_2\n",
    "    return product\n",
    "\n",
    "print (\"the answer is\",integer_1,\" * \",integer_2,\" = \",multiply())\n"
   ]
  },
  {
   "cell_type": "code",
   "execution_count": 39,
   "metadata": {},
   "outputs": [
    {
     "name": "stdout",
     "output_type": "stream",
     "text": [
      "Enter integer 1: 4\n",
      "Enter integer 2: 6\n",
      "5.0\n"
     ]
    }
   ],
   "source": [
    "# [ ] get input of 2 numbers and display the average: (num1 + num2) divided by 2\n",
    "\n",
    "integer_1 = (int(input(\"Enter integer 1: \")))\n",
    "integer_2 = (int(input(\"Enter integer 2: \")))\n",
    "\n",
    "def average():\n",
    "    average = (integer_1+integer_2)/2\n",
    "    return average\n",
    "\n",
    "print (average())"
   ]
  },
  {
   "cell_type": "code",
   "execution_count": 41,
   "metadata": {},
   "outputs": [
    {
     "name": "stdout",
     "output_type": "stream",
     "text": [
      "Enter integer 1: 8\n",
      "Enter integer 2: 5\n",
      "3\n"
     ]
    }
   ],
   "source": [
    "# [ ] get input of 2 numbers and subtract the largest from the smallest (use an if statement to see which is larger)\n",
    "# show the answer\n",
    "\n",
    "integer_1 = (int(input(\"Enter integer 1: \")))\n",
    "integer_2 = (int(input(\"Enter integer 2: \")))\n",
    "\n",
    "if integer_1 > integer_2:\n",
    "    print(integer_1-integer_2)\n",
    "elif integer_2 > integer_1:\n",
    "    print(integer_2-integer_1)\n",
    "else:\n",
    "    pass\n",
    "\n"
   ]
  },
  {
   "cell_type": "code",
   "execution_count": 55,
   "metadata": {},
   "outputs": [
    {
     "name": "stdout",
     "output_type": "stream",
     "text": [
      "Enter integer 1: 6\n",
      "Enter integer 2: 7\n",
      "1\n"
     ]
    }
   ],
   "source": [
    "# [ ] Divide a larger number by a smaller number and print the integer part of the result\n",
    "# don't divide by zero! if a zero is input make the result zero\n",
    "# [ ] cast the answer to an integer to cut off the decimals and print the result\n",
    "\n",
    "integer_1 = (int(input(\"Enter integer 1: \")))\n",
    "integer_2 = (int(input(\"Enter integer 2: \")))\n",
    "\n",
    "\n",
    "if integer_1 == 0:\n",
    "    print(\"0\")\n",
    "elif integer_2 == 0:\n",
    "    print(\"0\")\n",
    "elif integer_1 > integer_2:\n",
    "    print(int(integer_1/integer_2))\n",
    "elif integer_2 > integer_1:\n",
    "    print(int(integer_2/integer_1))\n",
    "else:\n",
    "    pass\n",
    "    \n"
   ]
  },
  {
   "cell_type": "markdown",
   "metadata": {},
   "source": [
    "[Terms of use](http://go.microsoft.com/fwlink/?LinkID=206977) &nbsp; [Privacy & cookies](https://go.microsoft.com/fwlink/?LinkId=521839) &nbsp; © 2017 Microsoft"
   ]
  }
 ],
 "metadata": {
  "anaconda-cloud": {},
  "kernelspec": {
   "display_name": "Python 3",
   "language": "python",
   "name": "python3"
  },
  "language_info": {
   "codemirror_mode": {
    "name": "ipython",
    "version": 3
   },
   "file_extension": ".py",
   "mimetype": "text/x-python",
   "name": "python",
   "nbconvert_exporter": "python",
   "pygments_lexer": "ipython3",
   "version": "3.7.1"
  }
 },
 "nbformat": 4,
 "nbformat_minor": 1
}
